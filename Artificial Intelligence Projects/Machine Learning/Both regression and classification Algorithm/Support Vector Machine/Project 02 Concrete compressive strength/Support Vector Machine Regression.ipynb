{
 "cells": [
  {
   "cell_type": "code",
   "execution_count": 72,
   "id": "9e337005-0dce-4693-989d-ce5bb2a9dcd0",
   "metadata": {},
   "outputs": [],
   "source": [
    "import pandas as pd"
   ]
  },
  {
   "cell_type": "code",
   "execution_count": 73,
   "id": "4a1b2772-b6a0-424d-a1bc-dbbfd612e7bb",
   "metadata": {},
   "outputs": [],
   "source": [
    "dataset = pd.read_csv(\"Concrete Strength.csv\")"
   ]
  },
  {
   "cell_type": "code",
   "execution_count": 74,
   "id": "4f0b87ca-bf95-4f51-8291-51f632f9f898",
   "metadata": {},
   "outputs": [
    {
     "data": {
      "text/plain": [
       "Index(['Cement (component 1)(kg in a m^3 mixture)',\n",
       "       'Blast Furnace Slag (component 2)(kg in a m^3 mixture)',\n",
       "       'Fly Ash (component 3)(kg in a m^3 mixture)',\n",
       "       'Water  (component 4)(kg in a m^3 mixture)',\n",
       "       'Superplasticizer (component 5)(kg in a m^3 mixture)',\n",
       "       'Coarse Aggregate  (component 6)(kg in a m^3 mixture)',\n",
       "       'Fine Aggregate (component 7)(kg in a m^3 mixture)', 'Age (day)',\n",
       "       'Concrete compressive strength(MPa, megapascals) '],\n",
       "      dtype='object')"
      ]
     },
     "execution_count": 74,
     "metadata": {},
     "output_type": "execute_result"
    }
   ],
   "source": [
    "dataset.columns"
   ]
  },
  {
   "cell_type": "code",
   "execution_count": 75,
   "id": "67c17188-5c80-48cc-8777-757c70546ddc",
   "metadata": {},
   "outputs": [],
   "source": [
    "independent = dataset[['Cement (component 1)(kg in a m^3 mixture)',\n",
    "       'Blast Furnace Slag (component 2)(kg in a m^3 mixture)',\n",
    "       'Fly Ash (component 3)(kg in a m^3 mixture)',\n",
    "       'Water  (component 4)(kg in a m^3 mixture)',\n",
    "       'Superplasticizer (component 5)(kg in a m^3 mixture)',\n",
    "       'Coarse Aggregate  (component 6)(kg in a m^3 mixture)',\n",
    "       'Fine Aggregate (component 7)(kg in a m^3 mixture)', 'Age (day)']]"
   ]
  },
  {
   "cell_type": "code",
   "execution_count": 76,
   "id": "6da1d9fd-38d3-44d7-8d6c-86c5b6993ae0",
   "metadata": {},
   "outputs": [],
   "source": [
    "dependent = dataset [['Concrete compressive strength(MPa, megapascals) ']]"
   ]
  },
  {
   "cell_type": "code",
   "execution_count": 77,
   "id": "8137bbb1-b689-44ed-80e4-beac2a5d855e",
   "metadata": {},
   "outputs": [],
   "source": [
    "from sklearn.model_selection import train_test_split"
   ]
  },
  {
   "cell_type": "code",
   "execution_count": 78,
   "id": "817388fe-3a23-4222-a741-f248bc35d2a0",
   "metadata": {},
   "outputs": [],
   "source": [
    "x_train,x_test,y_train,y_test=train_test_split(independent,dependent,train_size=0.70,random_state=0)"
   ]
  },
  {
   "cell_type": "code",
   "execution_count": 79,
   "id": "37d899da-9a5c-4003-9f73-80f9ffa33470",
   "metadata": {},
   "outputs": [],
   "source": [
    "#from sklearn.model_selection import cross_val_score\n",
    "#from sklearn.linear_model import LinearRegression\n",
    "\n",
    "#model = LinearRegression()\n",
    "#scores = cross_val_score(model, x_train, y_train, cv=5)  # 5-fold cross-validation\n",
    "#print(\"Cross-validation scores:\", scores)\n",
    "#print(\"Mean CV score:\", scores.mean())"
   ]
  },
  {
   "cell_type": "code",
   "execution_count": 114,
   "id": "97927cc4-c171-4930-b3ba-d1c73f918fbb",
   "metadata": {},
   "outputs": [
    {
     "name": "stderr",
     "output_type": "stream",
     "text": [
      "C:\\Python312\\Lib\\site-packages\\sklearn\\ensemble\\_gb.py:672: DataConversionWarning: A column-vector y was passed when a 1d array was expected. Please change the shape of y to (n_samples, ), for example using ravel().\n",
      "  y = column_or_1d(y, warn=True)  # TODO: Is this still required?\n"
     ]
    },
    {
     "name": "stdout",
     "output_type": "stream",
     "text": [
      "R² score on test set: 0.9054804261657479\n"
     ]
    }
   ],
   "source": [
    "from sklearn.ensemble import GradientBoostingRegressor\n",
    "from sklearn.metrics import r2_score\n",
    "\n",
    "# Step 1: Initialize and fit the GradientBoostingRegressor model\n",
    "gb_regressor = GradientBoostingRegressor(n_estimators=600, learning_rate=0.01, max_depth=5)\n",
    "gb_regressor.fit(x_train, y_train) # Trains the model on the training data (x_train = features, y_train = target values).\n",
    "\n",
    "#n_estimators=600: 600 trees will be built.\n",
    "#learning_rate=0.01: Each tree contributes a small amount to the final prediction.\n",
    "#max_depth=5: Each tree can have a maximum depth of 5 levels.\n",
    "\n",
    "\n",
    "# Step 2: Make predictions on the test set\n",
    "y_pred = gb_regressor.predict(x_test)\n",
    "# predict(x_test): Uses the trained model to predict the target values for the test data (x_test = features of the test set).\n",
    "#y_pred: Stores the predicted values.\n",
    "\n",
    "# Step 3: Calculate and print the R² score\n",
    "r2 = r2_score(y_test, y_pred)\n",
    "print(\"R² score on test set:\", r2)\n"
   ]
  },
  {
   "cell_type": "code",
   "execution_count": 115,
   "id": "646c6670-61e4-49d2-943f-afc2053c139a",
   "metadata": {},
   "outputs": [],
   "source": [
    "#weight = regressor.coef_"
   ]
  },
  {
   "cell_type": "code",
   "execution_count": 116,
   "id": "8dc1b991-2a82-4dff-b780-08762db8c830",
   "metadata": {},
   "outputs": [],
   "source": [
    "#weight"
   ]
  },
  {
   "cell_type": "code",
   "execution_count": 117,
   "id": "b34fb93c-89c4-40d2-ba28-f5eb1cfce5b0",
   "metadata": {},
   "outputs": [],
   "source": [
    "#bais = regressor.intercept_"
   ]
  },
  {
   "cell_type": "code",
   "execution_count": 118,
   "id": "1d705165-28cc-46c3-8e35-6083cdc63370",
   "metadata": {},
   "outputs": [],
   "source": [
    "#bais"
   ]
  },
  {
   "cell_type": "code",
   "execution_count": 119,
   "id": "628968ba-7ac4-405d-9b6c-a5ebba5c86b2",
   "metadata": {},
   "outputs": [],
   "source": [
    "#ypred = regressor.predict(x_test)"
   ]
  },
  {
   "cell_type": "code",
   "execution_count": 120,
   "id": "1a6653bc-b171-45a5-af72-af7feb178ab2",
   "metadata": {},
   "outputs": [],
   "source": [
    "#ypred"
   ]
  },
  {
   "cell_type": "code",
   "execution_count": 121,
   "id": "086bacfe-fa2d-4bef-b4fc-41125969d86a",
   "metadata": {},
   "outputs": [],
   "source": [
    "#from sklearn.metrics import r2_score\n",
    "#r_score=r2_score(y_test,ypred)"
   ]
  },
  {
   "cell_type": "code",
   "execution_count": 122,
   "id": "a53d26b6-eb7d-4f19-9dcf-c5ea5497a022",
   "metadata": {},
   "outputs": [],
   "source": [
    "#r_score"
   ]
  },
  {
   "cell_type": "code",
   "execution_count": 123,
   "id": "d68898d8-cbe5-4ea2-9917-ed769aa45123",
   "metadata": {},
   "outputs": [],
   "source": [
    "import pickle"
   ]
  },
  {
   "cell_type": "code",
   "execution_count": 124,
   "id": "de470990-7ed6-4680-ab36-8d3d931f6e7f",
   "metadata": {},
   "outputs": [],
   "source": [
    "mymodel=\"finalized_model_SVM.sav\""
   ]
  },
  {
   "cell_type": "code",
   "execution_count": 125,
   "id": "d926afbd-5edf-458c-8680-cfe4d9ff98ad",
   "metadata": {},
   "outputs": [],
   "source": [
    "pickle.dump(gb_regressor,open(mymodel,'wb'))"
   ]
  },
  {
   "cell_type": "code",
   "execution_count": null,
   "id": "483aecab-6be6-4f1d-af70-ffe682022c58",
   "metadata": {},
   "outputs": [],
   "source": []
  },
  {
   "cell_type": "code",
   "execution_count": null,
   "id": "d8c9d446-9878-47e0-ae87-d809eae51f35",
   "metadata": {},
   "outputs": [],
   "source": []
  },
  {
   "cell_type": "code",
   "execution_count": null,
   "id": "b73ef8c3-46b1-45b8-8c76-4de2fda42ec5",
   "metadata": {},
   "outputs": [],
   "source": []
  }
 ],
 "metadata": {
  "kernelspec": {
   "display_name": "Python 3 (ipykernel)",
   "language": "python",
   "name": "python3"
  },
  "language_info": {
   "codemirror_mode": {
    "name": "ipython",
    "version": 3
   },
   "file_extension": ".py",
   "mimetype": "text/x-python",
   "name": "python",
   "nbconvert_exporter": "python",
   "pygments_lexer": "ipython3",
   "version": "3.12.6"
  }
 },
 "nbformat": 4,
 "nbformat_minor": 5
}
