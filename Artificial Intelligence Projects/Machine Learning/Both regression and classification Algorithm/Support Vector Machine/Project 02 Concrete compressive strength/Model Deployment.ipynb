{
 "cells": [
  {
   "cell_type": "code",
   "execution_count": 1,
   "id": "3facd46b-970f-4b3f-89ec-74123a48a175",
   "metadata": {},
   "outputs": [],
   "source": [
    "import pickle"
   ]
  },
  {
   "cell_type": "code",
   "execution_count": 2,
   "id": "bd9322ff-a1a7-4604-8253-f9d2ab6c92d4",
   "metadata": {},
   "outputs": [],
   "source": [
    "load_model = pickle.load(open(\"finalized_model_SVM.sav\",'rb'))"
   ]
  },
  {
   "cell_type": "code",
   "execution_count": 3,
   "id": "531f1897-2af4-4d35-876c-b8999aac6edc",
   "metadata": {},
   "outputs": [
    {
     "name": "stderr",
     "output_type": "stream",
     "text": [
      "C:\\Python312\\Lib\\site-packages\\sklearn\\utils\\validation.py:2739: UserWarning: X does not have valid feature names, but SVR was fitted with feature names\n",
      "  warnings.warn(\n"
     ]
    }
   ],
   "source": [
    "result = load_model.predict([[540,0,0,162,2.5,1040,676,28]])"
   ]
  },
  {
   "cell_type": "code",
   "execution_count": 4,
   "id": "b7fb708b-a2bb-4247-9a29-120b15a50042",
   "metadata": {},
   "outputs": [
    {
     "data": {
      "text/plain": [
       "array([52.09375405])"
      ]
     },
     "execution_count": 4,
     "metadata": {},
     "output_type": "execute_result"
    }
   ],
   "source": [
    "result"
   ]
  },
  {
   "cell_type": "code",
   "execution_count": null,
   "id": "9a431443-17a7-476d-9acd-edfc68b31499",
   "metadata": {},
   "outputs": [],
   "source": []
  }
 ],
 "metadata": {
  "kernelspec": {
   "display_name": "Python 3 (ipykernel)",
   "language": "python",
   "name": "python3"
  },
  "language_info": {
   "codemirror_mode": {
    "name": "ipython",
    "version": 3
   },
   "file_extension": ".py",
   "mimetype": "text/x-python",
   "name": "python",
   "nbconvert_exporter": "python",
   "pygments_lexer": "ipython3",
   "version": "3.12.6"
  }
 },
 "nbformat": 4,
 "nbformat_minor": 5
}
