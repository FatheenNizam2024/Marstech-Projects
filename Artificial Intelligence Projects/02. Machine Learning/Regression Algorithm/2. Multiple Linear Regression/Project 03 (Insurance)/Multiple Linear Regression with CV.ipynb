{
 "cells": [
  {
   "cell_type": "code",
   "execution_count": 37,
   "id": "d2777361-2d92-4f66-9274-4798ffa961c9",
   "metadata": {},
   "outputs": [],
   "source": [
    "import pandas as pd\n",
    "import numpy as np\n",
    "\n",
    "#import matplotlib.pyplot as plt"
   ]
  },
  {
   "cell_type": "code",
   "execution_count": 38,
   "id": "4b4f947d-ecf3-40ea-871b-79bf6f85b5bb",
   "metadata": {},
   "outputs": [],
   "source": [
    "dataset = pd.read_csv(\"Artificial_Intelligence_Assignment_06_dataset_insurance_pre.csv\")"
   ]
  },
  {
   "cell_type": "code",
   "execution_count": 39,
   "id": "953f89cb-a7fe-4135-8281-bff6a574bc4f",
   "metadata": {},
   "outputs": [],
   "source": [
    "dataset = pd.get_dummies(dataset, drop_first=True)"
   ]
  },
  {
   "cell_type": "code",
   "execution_count": 40,
   "id": "8180f283-c3cb-41aa-a7d5-b5e3a1e671c6",
   "metadata": {},
   "outputs": [
    {
     "data": {
      "text/plain": [
       "Index(['age', 'bmi', 'children', 'charges', 'sex_male', 'smoker_yes'], dtype='object')"
      ]
     },
     "execution_count": 40,
     "metadata": {},
     "output_type": "execute_result"
    }
   ],
   "source": [
    "dataset.columns"
   ]
  },
  {
   "cell_type": "code",
   "execution_count": 41,
   "id": "d403b722-ad22-406d-88e5-a35a8cdca6bf",
   "metadata": {},
   "outputs": [
    {
     "data": {
      "text/html": [
       "<div>\n",
       "<style scoped>\n",
       "    .dataframe tbody tr th:only-of-type {\n",
       "        vertical-align: middle;\n",
       "    }\n",
       "\n",
       "    .dataframe tbody tr th {\n",
       "        vertical-align: top;\n",
       "    }\n",
       "\n",
       "    .dataframe thead th {\n",
       "        text-align: right;\n",
       "    }\n",
       "</style>\n",
       "<table border=\"1\" class=\"dataframe\">\n",
       "  <thead>\n",
       "    <tr style=\"text-align: right;\">\n",
       "      <th></th>\n",
       "      <th>age</th>\n",
       "      <th>bmi</th>\n",
       "      <th>children</th>\n",
       "      <th>charges</th>\n",
       "      <th>sex_male</th>\n",
       "      <th>smoker_yes</th>\n",
       "    </tr>\n",
       "  </thead>\n",
       "  <tbody>\n",
       "    <tr>\n",
       "      <th>0</th>\n",
       "      <td>19</td>\n",
       "      <td>27.900</td>\n",
       "      <td>0</td>\n",
       "      <td>16884.92400</td>\n",
       "      <td>False</td>\n",
       "      <td>True</td>\n",
       "    </tr>\n",
       "    <tr>\n",
       "      <th>1</th>\n",
       "      <td>18</td>\n",
       "      <td>33.770</td>\n",
       "      <td>1</td>\n",
       "      <td>1725.55230</td>\n",
       "      <td>True</td>\n",
       "      <td>False</td>\n",
       "    </tr>\n",
       "    <tr>\n",
       "      <th>2</th>\n",
       "      <td>28</td>\n",
       "      <td>33.000</td>\n",
       "      <td>3</td>\n",
       "      <td>4449.46200</td>\n",
       "      <td>True</td>\n",
       "      <td>False</td>\n",
       "    </tr>\n",
       "    <tr>\n",
       "      <th>3</th>\n",
       "      <td>33</td>\n",
       "      <td>22.705</td>\n",
       "      <td>0</td>\n",
       "      <td>21984.47061</td>\n",
       "      <td>True</td>\n",
       "      <td>False</td>\n",
       "    </tr>\n",
       "    <tr>\n",
       "      <th>4</th>\n",
       "      <td>32</td>\n",
       "      <td>28.880</td>\n",
       "      <td>0</td>\n",
       "      <td>3866.85520</td>\n",
       "      <td>True</td>\n",
       "      <td>False</td>\n",
       "    </tr>\n",
       "    <tr>\n",
       "      <th>...</th>\n",
       "      <td>...</td>\n",
       "      <td>...</td>\n",
       "      <td>...</td>\n",
       "      <td>...</td>\n",
       "      <td>...</td>\n",
       "      <td>...</td>\n",
       "    </tr>\n",
       "    <tr>\n",
       "      <th>1333</th>\n",
       "      <td>50</td>\n",
       "      <td>30.970</td>\n",
       "      <td>3</td>\n",
       "      <td>10600.54830</td>\n",
       "      <td>True</td>\n",
       "      <td>False</td>\n",
       "    </tr>\n",
       "    <tr>\n",
       "      <th>1334</th>\n",
       "      <td>18</td>\n",
       "      <td>31.920</td>\n",
       "      <td>0</td>\n",
       "      <td>2205.98080</td>\n",
       "      <td>False</td>\n",
       "      <td>False</td>\n",
       "    </tr>\n",
       "    <tr>\n",
       "      <th>1335</th>\n",
       "      <td>18</td>\n",
       "      <td>36.850</td>\n",
       "      <td>0</td>\n",
       "      <td>1629.83350</td>\n",
       "      <td>False</td>\n",
       "      <td>False</td>\n",
       "    </tr>\n",
       "    <tr>\n",
       "      <th>1336</th>\n",
       "      <td>21</td>\n",
       "      <td>25.800</td>\n",
       "      <td>0</td>\n",
       "      <td>2007.94500</td>\n",
       "      <td>False</td>\n",
       "      <td>False</td>\n",
       "    </tr>\n",
       "    <tr>\n",
       "      <th>1337</th>\n",
       "      <td>61</td>\n",
       "      <td>29.070</td>\n",
       "      <td>0</td>\n",
       "      <td>29141.36030</td>\n",
       "      <td>False</td>\n",
       "      <td>True</td>\n",
       "    </tr>\n",
       "  </tbody>\n",
       "</table>\n",
       "<p>1338 rows × 6 columns</p>\n",
       "</div>"
      ],
      "text/plain": [
       "      age     bmi  children      charges  sex_male  smoker_yes\n",
       "0      19  27.900         0  16884.92400     False        True\n",
       "1      18  33.770         1   1725.55230      True       False\n",
       "2      28  33.000         3   4449.46200      True       False\n",
       "3      33  22.705         0  21984.47061      True       False\n",
       "4      32  28.880         0   3866.85520      True       False\n",
       "...   ...     ...       ...          ...       ...         ...\n",
       "1333   50  30.970         3  10600.54830      True       False\n",
       "1334   18  31.920         0   2205.98080     False       False\n",
       "1335   18  36.850         0   1629.83350     False       False\n",
       "1336   21  25.800         0   2007.94500     False       False\n",
       "1337   61  29.070         0  29141.36030     False        True\n",
       "\n",
       "[1338 rows x 6 columns]"
      ]
     },
     "execution_count": 41,
     "metadata": {},
     "output_type": "execute_result"
    }
   ],
   "source": [
    "dataset"
   ]
  },
  {
   "cell_type": "code",
   "execution_count": 42,
   "id": "130e82d0-6cb8-4c1a-a4c7-e794d4a9b041",
   "metadata": {},
   "outputs": [],
   "source": [
    "independent = dataset[['age','bmi','children','sex_male', 'smoker_yes']]"
   ]
  },
  {
   "cell_type": "code",
   "execution_count": 43,
   "id": "e57da067-9281-4a03-a1a8-d66e5892e04b",
   "metadata": {},
   "outputs": [],
   "source": [
    "dependent = dataset[['charges']]"
   ]
  },
  {
   "cell_type": "code",
   "execution_count": 44,
   "id": "e30aba51-54c0-43a0-9f9d-fb1f27a94ed1",
   "metadata": {},
   "outputs": [],
   "source": [
    "from sklearn.model_selection import train_test_split"
   ]
  },
  {
   "cell_type": "code",
   "execution_count": 45,
   "id": "d145aa8c-ff03-4bae-bc9d-35f9519d2eb6",
   "metadata": {},
   "outputs": [],
   "source": [
    "x_train,x_test,y_train,y_test=train_test_split(independent,dependent,train_size=0.70,random_state=0)"
   ]
  },
  {
   "cell_type": "code",
   "execution_count": 21,
   "id": "43b39bb3-8e77-4ad8-9c87-b905ed08c3c8",
   "metadata": {},
   "outputs": [],
   "source": [
    "#Model creation for Multiple Linear Regressor_Regression_with_CV\n",
    "from sklearn.model_selection import cross_val_score\n",
    "from sklearn.linear_model import LinearRegression\n",
    "\n",
    "model = LinearRegression(fit_intercept=True, copy_X=True, n_jobs=None, positive=False, )\n",
    "cv_scores = cross_val_score(model, independent, dependent, cv=5, scoring='r2')\n"
   ]
  },
  {
   "cell_type": "code",
   "execution_count": 22,
   "id": "8d702b7a-ee63-4d4b-a063-6b1354c056ac",
   "metadata": {},
   "outputs": [
    {
     "name": "stdout",
     "output_type": "stream",
     "text": [
      "Cross-validation scores (R^2): [0.76097874 0.70873346 0.7755842  0.73136684 0.7565446 ]\n",
      "Mean R^2 Score: 0.746641566347216\n"
     ]
    }
   ],
   "source": [
    "print(\"Cross-validation scores (R^2):\", cv_scores)\n",
    "print(\"Mean R^2 Score:\", np.mean(cv_scores))"
   ]
  },
  {
   "cell_type": "code",
   "execution_count": 26,
   "id": "f336aad9-a224-492d-8f2c-19168d6f65f2",
   "metadata": {},
   "outputs": [],
   "source": [
    "table=pd.DataFrame.from_dict(cv_scores)"
   ]
  },
  {
   "cell_type": "code",
   "execution_count": 27,
   "id": "c298d0bf-1ba0-4f99-b40c-d68489895906",
   "metadata": {},
   "outputs": [
    {
     "data": {
      "text/html": [
       "<div>\n",
       "<style scoped>\n",
       "    .dataframe tbody tr th:only-of-type {\n",
       "        vertical-align: middle;\n",
       "    }\n",
       "\n",
       "    .dataframe tbody tr th {\n",
       "        vertical-align: top;\n",
       "    }\n",
       "\n",
       "    .dataframe thead th {\n",
       "        text-align: right;\n",
       "    }\n",
       "</style>\n",
       "<table border=\"1\" class=\"dataframe\">\n",
       "  <thead>\n",
       "    <tr style=\"text-align: right;\">\n",
       "      <th></th>\n",
       "      <th>0</th>\n",
       "    </tr>\n",
       "  </thead>\n",
       "  <tbody>\n",
       "    <tr>\n",
       "      <th>0</th>\n",
       "      <td>0.760979</td>\n",
       "    </tr>\n",
       "    <tr>\n",
       "      <th>1</th>\n",
       "      <td>0.708733</td>\n",
       "    </tr>\n",
       "    <tr>\n",
       "      <th>2</th>\n",
       "      <td>0.775584</td>\n",
       "    </tr>\n",
       "    <tr>\n",
       "      <th>3</th>\n",
       "      <td>0.731367</td>\n",
       "    </tr>\n",
       "    <tr>\n",
       "      <th>4</th>\n",
       "      <td>0.756545</td>\n",
       "    </tr>\n",
       "  </tbody>\n",
       "</table>\n",
       "</div>"
      ],
      "text/plain": [
       "          0\n",
       "0  0.760979\n",
       "1  0.708733\n",
       "2  0.775584\n",
       "3  0.731367\n",
       "4  0.756545"
      ]
     },
     "execution_count": 27,
     "metadata": {},
     "output_type": "execute_result"
    }
   ],
   "source": [
    "table"
   ]
  },
  {
   "cell_type": "code",
   "execution_count": 28,
   "id": "37491e72-123f-4495-90c3-77c25404ccbf",
   "metadata": {},
   "outputs": [],
   "source": [
    "table.to_csv(\"best_parameters.csv\", index=False)"
   ]
  },
  {
   "cell_type": "code",
   "execution_count": 43,
   "id": "fdcc412c-d19f-49b6-ade5-e85c1ab46837",
   "metadata": {},
   "outputs": [],
   "source": [
    "#from reportlab.lib.pagesizes import letter\n",
    "#from reportlab.pdfgen import canvas\n",
    "\n",
    "# Sample DataFrame\n",
    "#data = {'Parameter': ['max_depth', 'min_samples_split', 'min_samples_leaf'],\n",
    " #       'Best Value': [10, 2, 1]}\n",
    "#table = pd.DataFrame(data)\n",
    "\n",
    "# Function to convert DataFrame to PDF\n",
    "#def table_to_pdf(table, filename=\"output.pdf\"):\n",
    " #   c = canvas.Canvas(filename, pagesize=letter)\n",
    "  #  width, height = letter\n",
    "   # c.setFont(\"Helvetica\", 10)\n",
    "\n",
    "#    x_offset = 50\n",
    " #   y_offset = height - 50\n",
    "  #  line_height = 20\n",
    "#\n",
    "   # Draw column headers\n",
    "   # for col_index, col_name in enumerate(table.columns):\n",
    " #       c.drawString(x_offset + col_index * 100, y_offset, col_name)\n",
    "\n",
    "  #  y_offset -= line_height\n",
    "\n",
    "    # Draw table rows\n",
    "   # for row in table.itertuples(index=False):\n",
    "    #    for col_index, value in enumerate(row):\n",
    "     #       c.drawString(x_offset + col_index * 100, y_offset, str(value))\n",
    "      #  y_offset -= line_height\n",
    "\n",
    "#        if y_offset < 50:  # Start a new page if needed\n",
    " #           c.showPage()\n",
    "  #          y_offset = height - 50\n",
    "\n",
    "   # c.save()\n",
    "    #print(f\"PDF saved as {filename}\")\n",
    "\n",
    "# Convert DataFrame to PDF\n",
    "#table_to_pdf(table, \"best_parameters.pdf\")\n",
    "\n"
   ]
  },
  {
   "cell_type": "code",
   "execution_count": 31,
   "id": "13551927-7a66-43e5-8b26-4f8887f264d6",
   "metadata": {},
   "outputs": [],
   "source": [
    "y_pred=grid.predict(x_test)"
   ]
  },
  {
   "cell_type": "code",
   "execution_count": 32,
   "id": "080d8bc4-b53e-4bd9-9d0c-80279c398553",
   "metadata": {},
   "outputs": [],
   "source": [
    "from sklearn.metrics import r2_score\n",
    "r_score=r2_score(y_test,y_pred)"
   ]
  },
  {
   "cell_type": "code",
   "execution_count": 33,
   "id": "f25eb2f3-7507-4c68-b271-4d90269e8330",
   "metadata": {},
   "outputs": [
    {
     "data": {
      "text/plain": [
       "0.8729717577378623"
      ]
     },
     "execution_count": 33,
     "metadata": {},
     "output_type": "execute_result"
    }
   ],
   "source": [
    "r_score"
   ]
  },
  {
   "cell_type": "code",
   "execution_count": 34,
   "id": "d2f1972f-9d11-4149-b9af-c45ffb37200f",
   "metadata": {},
   "outputs": [],
   "source": [
    "import pickle"
   ]
  },
  {
   "cell_type": "code",
   "execution_count": 35,
   "id": "af272480-9ff5-4cfc-90d8-5d39fa340724",
   "metadata": {},
   "outputs": [],
   "source": [
    "mymodel= (\"Multiple Linear Insurance.sav\")"
   ]
  },
  {
   "cell_type": "code",
   "execution_count": 36,
   "id": "c6ee7b7b-e43f-4333-856c-cc34249de4be",
   "metadata": {},
   "outputs": [],
   "source": [
    "pickle.dump(grid,open(mymodel,'wb'))"
   ]
  },
  {
   "cell_type": "code",
   "execution_count": null,
   "id": "b16c8a06-b1b0-44c9-a925-df67054972c0",
   "metadata": {},
   "outputs": [],
   "source": []
  }
 ],
 "metadata": {
  "kernelspec": {
   "display_name": "Python 3 (ipykernel)",
   "language": "python",
   "name": "python3"
  },
  "language_info": {
   "codemirror_mode": {
    "name": "ipython",
    "version": 3
   },
   "file_extension": ".py",
   "mimetype": "text/x-python",
   "name": "python",
   "nbconvert_exporter": "python",
   "pygments_lexer": "ipython3",
   "version": "3.12.6"
  }
 },
 "nbformat": 4,
 "nbformat_minor": 5
}
