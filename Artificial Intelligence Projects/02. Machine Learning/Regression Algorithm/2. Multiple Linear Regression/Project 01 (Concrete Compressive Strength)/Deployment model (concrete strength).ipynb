{
 "cells": [
  {
   "cell_type": "code",
   "execution_count": 5,
   "id": "48b795da-d1a1-4484-bca4-1b8f2d79747f",
   "metadata": {},
   "outputs": [],
   "source": [
    "import pickle"
   ]
  },
  {
   "cell_type": "code",
   "execution_count": 6,
   "id": "98108b86-4795-4907-9940-4eaf61200fa6",
   "metadata": {},
   "outputs": [],
   "source": [
    "load_model = pickle.load(open(\"concrete strength predic.sav\",'rb'))"
   ]
  },
  {
   "cell_type": "code",
   "execution_count": 7,
   "id": "b5933f98-18ff-4e31-92de-7b9f42252630",
   "metadata": {},
   "outputs": [],
   "source": [
    "result = load_model.predict([[640,0,0,142,5.5,1070,696,78]])"
   ]
  },
  {
   "cell_type": "code",
   "execution_count": 8,
   "id": "64b1ceff-05b7-4fe6-ab50-74f3f57fcebc",
   "metadata": {},
   "outputs": [
    {
     "data": {
      "text/plain": [
       "array([[11372.38300537]])"
      ]
     },
     "execution_count": 8,
     "metadata": {},
     "output_type": "execute_result"
    }
   ],
   "source": [
    "result"
   ]
  },
  {
   "cell_type": "code",
   "execution_count": null,
   "id": "aedc2fa7-5942-4299-a8c9-bcfefaabc2d9",
   "metadata": {},
   "outputs": [],
   "source": []
  },
  {
   "cell_type": "code",
   "execution_count": null,
   "id": "83fda7db-be6d-4662-a2e0-2bb4495f989b",
   "metadata": {},
   "outputs": [],
   "source": []
  }
 ],
 "metadata": {
  "kernelspec": {
   "display_name": "Python 3 (ipykernel)",
   "language": "python",
   "name": "python3"
  },
  "language_info": {
   "codemirror_mode": {
    "name": "ipython",
    "version": 3
   },
   "file_extension": ".py",
   "mimetype": "text/x-python",
   "name": "python",
   "nbconvert_exporter": "python",
   "pygments_lexer": "ipython3",
   "version": "3.12.6"
  }
 },
 "nbformat": 4,
 "nbformat_minor": 5
}
