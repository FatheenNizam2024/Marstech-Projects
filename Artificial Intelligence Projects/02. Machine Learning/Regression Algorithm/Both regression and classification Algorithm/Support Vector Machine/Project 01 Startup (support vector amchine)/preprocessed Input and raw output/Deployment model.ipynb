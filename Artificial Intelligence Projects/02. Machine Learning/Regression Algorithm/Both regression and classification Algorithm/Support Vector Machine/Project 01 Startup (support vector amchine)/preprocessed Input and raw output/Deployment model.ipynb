{
 "cells": [
  {
   "cell_type": "code",
   "execution_count": 28,
   "id": "b5060f65-3442-45dd-95dd-d6d81e50ad26",
   "metadata": {},
   "outputs": [],
   "source": [
    "import pickle"
   ]
  },
  {
   "cell_type": "code",
   "execution_count": 29,
   "id": "10937c66-99ce-4133-957d-8299f2b97fcd",
   "metadata": {},
   "outputs": [],
   "source": [
    "import pandas as pd"
   ]
  },
  {
   "cell_type": "code",
   "execution_count": 30,
   "id": "7f32257c-21bb-4dab-b43e-5cb5bf1a67e6",
   "metadata": {},
   "outputs": [],
   "source": [
    "dataset = pd.read_csv(\"50_Startups.csv\")"
   ]
  },
  {
   "cell_type": "code",
   "execution_count": 31,
   "id": "2a244484-f785-4cb2-ba05-26e2e7a643fd",
   "metadata": {},
   "outputs": [],
   "source": [
    "dataset = pd.get_dummies(dataset, drop_first=True)"
   ]
  },
  {
   "cell_type": "code",
   "execution_count": 32,
   "id": "0876372c-51d9-4dea-ad9f-eae902a89f7f",
   "metadata": {},
   "outputs": [],
   "source": [
    "independent = dataset[['R&D Spend','Administration','Marketing Spend','State_Florida', 'State_New York']]"
   ]
  },
  {
   "cell_type": "code",
   "execution_count": 33,
   "id": "2e28402d-de92-455e-9650-a79c6f331a74",
   "metadata": {},
   "outputs": [],
   "source": [
    "dependent = dataset[['Profit']]"
   ]
  },
  {
   "cell_type": "code",
   "execution_count": 34,
   "id": "af13caf6-0e29-49ae-b94f-f210afd87024",
   "metadata": {},
   "outputs": [],
   "source": [
    "from sklearn.model_selection import train_test_split"
   ]
  },
  {
   "cell_type": "code",
   "execution_count": 35,
   "id": "fecabdba-d858-4fab-8fd6-9404eb440538",
   "metadata": {},
   "outputs": [],
   "source": [
    "x_train,x_test,y_train,y_test=train_test_split(independent,dependent,train_size=0.70,random_state=0)"
   ]
  },
  {
   "cell_type": "code",
   "execution_count": 36,
   "id": "8b424ea8-72a1-4dc0-b785-9b116174999a",
   "metadata": {},
   "outputs": [],
   "source": [
    "from sklearn.preprocessing import StandardScaler\n",
    "sc=StandardScaler()\n",
    "x_train=sc.fit_transform(x_train)#transformation of x_train using StandardScaler\n",
    "x_test=sc.transform(x_test)"
   ]
  },
  {
   "cell_type": "code",
   "execution_count": 37,
   "id": "6e641f0c-8751-4875-88ed-bf21cb2cb4b7",
   "metadata": {},
   "outputs": [
    {
     "name": "stderr",
     "output_type": "stream",
     "text": [
      "C:\\Python312\\Lib\\site-packages\\sklearn\\utils\\validation.py:2739: UserWarning: X does not have valid feature names, but StandardScaler was fitted with feature names\n",
      "  warnings.warn(\n"
     ]
    }
   ],
   "source": [
    "preinput=sc.transform([[165349.20,136897.80,471784.10,0,1]])"
   ]
  },
  {
   "cell_type": "code",
   "execution_count": 38,
   "id": "92c879d7-de61-457e-98cd-c561bb0b544c",
   "metadata": {},
   "outputs": [
    {
     "data": {
      "text/plain": [
       "array([[ 1.89486118,  0.51005662,  2.07686138, -0.5       ,  1.30088727]])"
      ]
     },
     "execution_count": 38,
     "metadata": {},
     "output_type": "execute_result"
    }
   ],
   "source": [
    "preinput"
   ]
  },
  {
   "cell_type": "code",
   "execution_count": 39,
   "id": "bfb598cc-6b81-4ecc-b347-d0c046ac8303",
   "metadata": {},
   "outputs": [],
   "source": [
    "loaded_model=pickle.load(open(\"final_model_SVMR.sav\",'rb'))"
   ]
  },
  {
   "cell_type": "code",
   "execution_count": 40,
   "id": "976cbbde-1dce-4e8c-b949-ffc9f90997a6",
   "metadata": {},
   "outputs": [],
   "source": [
    "result = loaded_model.predict(preinput)"
   ]
  },
  {
   "cell_type": "code",
   "execution_count": 41,
   "id": "c3e08c32-5271-44cb-9139-15d35a37434e",
   "metadata": {},
   "outputs": [
    {
     "data": {
      "text/plain": [
       "array([192261.73310946])"
      ]
     },
     "execution_count": 41,
     "metadata": {},
     "output_type": "execute_result"
    }
   ],
   "source": [
    "result"
   ]
  },
  {
   "cell_type": "code",
   "execution_count": null,
   "id": "389a36e9-33ac-4985-a20d-1ed2d6bfe641",
   "metadata": {},
   "outputs": [],
   "source": []
  },
  {
   "cell_type": "code",
   "execution_count": null,
   "id": "efd22a67-156d-434e-b27a-85d16c56e22d",
   "metadata": {},
   "outputs": [],
   "source": []
  },
  {
   "cell_type": "code",
   "execution_count": null,
   "id": "9c2f65fd-7f79-4821-82f6-c59d431658e7",
   "metadata": {},
   "outputs": [],
   "source": []
  },
  {
   "cell_type": "code",
   "execution_count": null,
   "id": "a8776df2-47ba-4553-b2d9-5930fcf1d0c0",
   "metadata": {},
   "outputs": [],
   "source": []
  },
  {
   "cell_type": "code",
   "execution_count": null,
   "id": "c096fd84-00e5-4df7-89d8-1a94551bdf26",
   "metadata": {},
   "outputs": [],
   "source": []
  }
 ],
 "metadata": {
  "kernelspec": {
   "display_name": "Python 3 (ipykernel)",
   "language": "python",
   "name": "python3"
  },
  "language_info": {
   "codemirror_mode": {
    "name": "ipython",
    "version": 3
   },
   "file_extension": ".py",
   "mimetype": "text/x-python",
   "name": "python",
   "nbconvert_exporter": "python",
   "pygments_lexer": "ipython3",
   "version": "3.12.6"
  }
 },
 "nbformat": 4,
 "nbformat_minor": 5
}
