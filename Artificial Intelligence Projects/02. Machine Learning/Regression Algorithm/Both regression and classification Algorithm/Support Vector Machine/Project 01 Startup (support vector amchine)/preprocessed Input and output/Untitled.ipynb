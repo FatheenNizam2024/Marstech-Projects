{
 "cells": [
  {
   "cell_type": "code",
   "execution_count": 54,
   "id": "d7c5ccf5-5004-4716-bcc0-1c2be1be624f",
   "metadata": {},
   "outputs": [],
   "source": [
    "import pickle"
   ]
  },
  {
   "cell_type": "code",
   "execution_count": 55,
   "id": "992d9017-d0a7-47ce-8ceb-ff88155ce4fa",
   "metadata": {},
   "outputs": [],
   "source": [
    "import pandas as pd"
   ]
  },
  {
   "cell_type": "code",
   "execution_count": 56,
   "id": "be416325-7077-4822-8398-4d14b7792858",
   "metadata": {},
   "outputs": [],
   "source": [
    "dataset = pd.read_csv(\"50_Startups.csv\")"
   ]
  },
  {
   "cell_type": "code",
   "execution_count": 57,
   "id": "486ed081-f0ef-4cfc-b7c7-f6bb85b303b7",
   "metadata": {},
   "outputs": [],
   "source": [
    "dataset = pd.get_dummies(dataset, drop_first=True)"
   ]
  },
  {
   "cell_type": "code",
   "execution_count": 58,
   "id": "e7ba1405-dff9-4514-bf9f-ec0b74bccc04",
   "metadata": {},
   "outputs": [],
   "source": [
    "independent = dataset[['R&D Spend','Administration','Marketing Spend','State_Florida', 'State_New York']]"
   ]
  },
  {
   "cell_type": "code",
   "execution_count": 59,
   "id": "f946e064-bc9e-4717-a8a5-2f85abedfcb3",
   "metadata": {},
   "outputs": [],
   "source": [
    "dependent = dataset[['Profit']]"
   ]
  },
  {
   "cell_type": "code",
   "execution_count": 60,
   "id": "a0ef3572-996d-461f-aa65-aa91828fb655",
   "metadata": {},
   "outputs": [],
   "source": [
    "from sklearn.model_selection import train_test_split"
   ]
  },
  {
   "cell_type": "code",
   "execution_count": 61,
   "id": "5978d195-a578-488f-a9d9-dcea84d91bde",
   "metadata": {},
   "outputs": [],
   "source": [
    "x_train,x_test,y_train,y_test=train_test_split(independent,dependent,train_size=0.70,random_state=0)"
   ]
  },
  {
   "cell_type": "code",
   "execution_count": 62,
   "id": "382ba378-6e16-4452-88f4-7473efd8f97d",
   "metadata": {},
   "outputs": [],
   "source": [
    "from sklearn.preprocessing import StandardScaler\n",
    "sc=StandardScaler()\n",
    "x_train=sc.fit_transform(x_train)#transformation of x_train using StandardScaler\n",
    "x_test=sc.transform(x_test)"
   ]
  },
  {
   "cell_type": "code",
   "execution_count": 63,
   "id": "55d1f1dc-167a-464e-b2b4-940e7066f2d2",
   "metadata": {},
   "outputs": [],
   "source": [
    "scy=StandardScaler()\n",
    "y_train=scy.fit_transform(y_train)#transformation of x_train using StandardScaler\n",
    "y_test=scy.transform(y_test)"
   ]
  },
  {
   "cell_type": "code",
   "execution_count": 64,
   "id": "26244871-cc31-47bd-9749-0dc6011846e5",
   "metadata": {},
   "outputs": [
    {
     "name": "stderr",
     "output_type": "stream",
     "text": [
      "C:\\Python312\\Lib\\site-packages\\sklearn\\utils\\validation.py:2739: UserWarning: X does not have valid feature names, but StandardScaler was fitted with feature names\n",
      "  warnings.warn(\n"
     ]
    }
   ],
   "source": [
    "preinput=sc.transform([[165349.20,136897.80,471784.10,0,1]])"
   ]
  },
  {
   "cell_type": "code",
   "execution_count": 65,
   "id": "c9b8746b-1155-4c97-b5c0-c9c6da85aa1d",
   "metadata": {},
   "outputs": [
    {
     "data": {
      "text/plain": [
       "array([[ 1.89486118,  0.51005662,  2.07686138, -0.5       ,  1.30088727]])"
      ]
     },
     "execution_count": 65,
     "metadata": {},
     "output_type": "execute_result"
    }
   ],
   "source": [
    "preinput"
   ]
  },
  {
   "cell_type": "code",
   "execution_count": 66,
   "id": "8e7ed10b-00ab-44cc-8138-498f96675316",
   "metadata": {},
   "outputs": [],
   "source": [
    "loaded_model=pickle.load(open(\"final_model_SVMR.sav\",'rb'))"
   ]
  },
  {
   "cell_type": "code",
   "execution_count": 67,
   "id": "22501439-2ef3-4285-bd40-f6a3272c4e0b",
   "metadata": {},
   "outputs": [],
   "source": [
    "result = loaded_model.predict(preinput)"
   ]
  },
  {
   "cell_type": "code",
   "execution_count": 68,
   "id": "dcacfebb-60f4-486d-8b1b-23234325a8b0",
   "metadata": {},
   "outputs": [
    {
     "data": {
      "text/plain": [
       "array([1.93390455])"
      ]
     },
     "execution_count": 68,
     "metadata": {},
     "output_type": "execute_result"
    }
   ],
   "source": [
    "result"
   ]
  },
  {
   "cell_type": "code",
   "execution_count": 69,
   "id": "1118d09f-9996-429a-b626-0c2e49e7b3f2",
   "metadata": {},
   "outputs": [],
   "source": [
    "preout = scy.inverse_transform([result])"
   ]
  },
  {
   "cell_type": "code",
   "execution_count": 70,
   "id": "09cd2aff-96ce-4db3-aaed-0f888701e3aa",
   "metadata": {},
   "outputs": [
    {
     "data": {
      "text/plain": [
       "array([[193407.89645779]])"
      ]
     },
     "execution_count": 70,
     "metadata": {},
     "output_type": "execute_result"
    }
   ],
   "source": [
    "preout"
   ]
  },
  {
   "cell_type": "code",
   "execution_count": null,
   "id": "bca54352-d5ed-4cfc-a4f0-6842175b0315",
   "metadata": {},
   "outputs": [],
   "source": []
  }
 ],
 "metadata": {
  "kernelspec": {
   "display_name": "Python 3 (ipykernel)",
   "language": "python",
   "name": "python3"
  },
  "language_info": {
   "codemirror_mode": {
    "name": "ipython",
    "version": 3
   },
   "file_extension": ".py",
   "mimetype": "text/x-python",
   "name": "python",
   "nbconvert_exporter": "python",
   "pygments_lexer": "ipython3",
   "version": "3.12.6"
  }
 },
 "nbformat": 4,
 "nbformat_minor": 5
}
