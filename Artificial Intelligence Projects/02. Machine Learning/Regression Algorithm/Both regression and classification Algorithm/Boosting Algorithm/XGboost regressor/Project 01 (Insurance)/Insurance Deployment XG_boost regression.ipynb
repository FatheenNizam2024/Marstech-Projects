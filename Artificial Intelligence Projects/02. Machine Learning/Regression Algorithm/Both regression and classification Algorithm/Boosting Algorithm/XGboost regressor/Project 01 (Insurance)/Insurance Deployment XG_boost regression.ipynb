{
 "cells": [
  {
   "cell_type": "code",
   "execution_count": 5,
   "id": "93d3dbb3-828d-4199-9996-27521b677ab7",
   "metadata": {},
   "outputs": [],
   "source": [
    "import pickle"
   ]
  },
  {
   "cell_type": "code",
   "execution_count": 6,
   "id": "a5f6d17b-a626-4e0a-9097-5cdb5b01bfda",
   "metadata": {},
   "outputs": [],
   "source": [
    "loaded_model = pickle.load(open(\"XG_boost regressor Insurance.sav\",'rb'))"
   ]
  },
  {
   "cell_type": "code",
   "execution_count": 7,
   "id": "8ce49154-80aa-4961-9b7e-1348e1ddb67f",
   "metadata": {},
   "outputs": [],
   "source": [
    "result=loaded_model.predict([[19,27.900,0,False,True]])"
   ]
  },
  {
   "cell_type": "code",
   "execution_count": 8,
   "id": "67070ab9-556f-4b78-8f7a-f8173ad08fa4",
   "metadata": {},
   "outputs": [
    {
     "data": {
      "text/plain": [
       "array([17686.096], dtype=float32)"
      ]
     },
     "execution_count": 8,
     "metadata": {},
     "output_type": "execute_result"
    }
   ],
   "source": [
    "result"
   ]
  },
  {
   "cell_type": "code",
   "execution_count": null,
   "id": "18148aa0-6f0d-40f8-846f-45ecf1ac6aa3",
   "metadata": {},
   "outputs": [],
   "source": []
  }
 ],
 "metadata": {
  "kernelspec": {
   "display_name": "Python 3 (ipykernel)",
   "language": "python",
   "name": "python3"
  },
  "language_info": {
   "codemirror_mode": {
    "name": "ipython",
    "version": 3
   },
   "file_extension": ".py",
   "mimetype": "text/x-python",
   "name": "python",
   "nbconvert_exporter": "python",
   "pygments_lexer": "ipython3",
   "version": "3.12.6"
  }
 },
 "nbformat": 4,
 "nbformat_minor": 5
}
